{
 "cells": [
  {
   "cell_type": "code",
   "execution_count": 1,
   "id": "caac007e",
   "metadata": {},
   "outputs": [],
   "source": [
    "import pandas as pd\n",
    "from sklearn import tree\n",
    "from sklearn.model_selection import train_test_split\n",
    "from sklearn import metrics\n",
    "from sklearn.preprocessing import LabelEncoder\n"
   ]
  },
  {
   "cell_type": "code",
   "execution_count": 2,
   "id": "4453a659",
   "metadata": {},
   "outputs": [],
   "source": [
    "filename = 'BookiesProject.csv'\n",
    "df = pd.read_csv(filename)\n",
    "no_teams_df = df.drop(columns=['Date', 'Unnamed: 0', 'HomeTeam', 'AwayTeam', 'FTR']).copy()\n",
    "\n"
   ]
  },
  {
   "cell_type": "code",
   "execution_count": 11,
   "id": "d888ca81",
   "metadata": {},
   "outputs": [
    {
     "name": "stdout",
     "output_type": "stream",
     "text": [
      "              precision    recall  f1-score   support\n",
      "\n",
      "           0       0.78      0.74      0.76       729\n",
      "           1       0.52      0.58      0.55       363\n",
      "\n",
      "    accuracy                           0.68      1092\n",
      "   macro avg       0.65      0.66      0.65      1092\n",
      "weighted avg       0.69      0.68      0.69      1092\n",
      "\n"
     ]
    }
   ],
   "source": [
    "X = no_teams_df.drop([\"TARGET\"], axis = 1)\n",
    "y = no_teams_df[[\"TARGET\"]]\n",
    "X_train, X_test, y_train, y_test = train_test_split(X, y)\n",
    "clf = tree.DecisionTreeClassifier(max_depth = 2)\n",
    "clf.fit(X_train, y_train)\n",
    "\n",
    "predicted = clf.predict(X_test)\n",
    "report = metrics.classification_report(predicted, y_test)\n",
    "print(report)"
   ]
  },
  {
   "cell_type": "code",
   "execution_count": 4,
   "id": "f14451fb",
   "metadata": {},
   "outputs": [
    {
     "data": {
      "image/png": "[encoded data removed]",
      "text/plain": [
       "<Figure size 640x480 with 1 Axes>"
      ]
     },
     "metadata": {},
     "output_type": "display_data"
    }
   ],
   "source": [
    "import matplotlib.pyplot as plt\n",
    "\n",
    "# find each features importance in clf, then return indexes of each features\n",
    "# importance from most important to least, then get column for each index\n",
    "importances = clf.feature_importances_\n",
    "sorted_index_lst = importances.argsort()[::-1]\n",
    "ordered_col_names = [X.columns[i] for i in sorted_index_lst]\n",
    "\n",
    "plt.title(\"Feature Importance\")\n",
    "plt.bar(range(len(importances)), importances[sorted_index_lst], \n",
    "        align='center', color='orange', edgecolor='black')\n",
    "plt.xticks(range(len(importances)), ordered_col_names)\n",
    "plt.xlabel(\"Features\")\n",
    "plt.ylabel(\"Importance\")\n",
    "plt.show()"
   ]
  },
  {
   "cell_type": "code",
   "execution_count": 5,
   "id": "6f235eda",
   "metadata": {},
   "outputs": [
    {
     "name": "stdout",
     "output_type": "stream",
     "text": [
      "    B365H  B365D  B365A   BWH   BWD    BWA   IWH  IWD    IWA   PSH  ...   WHH  \\\n",
      "0    1.40   4.50   8.50  1.35  4.60   9.00  1.35  4.5   7.30  1.44  ...  1.44   \n",
      "1    1.80   3.60   4.50  1.80  3.50   4.40  1.80  3.4   4.00  1.82  ...  1.85   \n",
      "2    2.50   3.40   2.75  2.60  3.30   2.75  2.40  3.2   2.70  2.65  ...  2.70   \n",
      "3    2.00   3.40   3.80  2.00  3.40   3.60  2.10  3.3   3.10  2.05  ...  2.00   \n",
      "4    2.38   3.25   3.10  2.40  3.20   3.10  2.40  3.2   2.70  2.40  ...  2.40   \n",
      "5    4.20   3.50   1.91  4.10  3.50   1.85  3.30  3.3   2.00  4.39  ...  3.80   \n",
      "6    2.20   3.30   3.40  2.25  3.30   3.30  2.15  3.3   3.00  2.26  ...  2.30   \n",
      "7    1.17   7.00  17.00  1.18  6.25  16.00  1.17  5.8  13.00  1.20  ...  1.20   \n",
      "8    6.00   3.75   1.62  6.00  3.90   1.55  5.50  3.9   1.50  6.05  ...  5.50   \n",
      "9    4.33   3.60   1.83  4.60  3.50   1.83  3.80  3.4   1.85  4.27  ...  4.33   \n",
      "10   1.25   5.50  13.00  1.25  5.25  12.50  1.25  5.0  10.00  1.27  ...  1.29   \n",
      "11   2.90   3.40   2.40  2.95  3.30   2.45  2.50  3.2   2.60  3.14  ...  2.88   \n",
      "12   1.50   4.33   6.50  1.50  4.33   6.50  1.53  3.8   5.50  1.51  ...  1.50   \n",
      "13   1.29   5.50  11.00  1.28  5.25  10.00  1.25  5.0  10.00  1.32  ...  1.35   \n",
      "14   2.25   3.40   3.20  2.25  3.30   3.10  2.10  3.2   3.20  2.34  ...  2.38   \n",
      "\n",
      "    WHD    WHA   VCH   VCD    VCA  PRED  TARGET  HomeTeam_encoded  \\\n",
      "0   4.0   8.00  1.44  4.75   8.50     1       1                 0   \n",
      "1   3.3   4.50  1.83  3.75   4.75     1       0                10   \n",
      "2   3.0   2.80  2.62  3.40   2.75     1       0                20   \n",
      "3   3.3   3.80  2.00  3.50   4.00     1       1                23   \n",
      "4   3.3   2.90  2.40  3.30   3.25     1       1                24   \n",
      "5   3.3   2.00  4.33  3.60   1.95     0       1                32   \n",
      "6   3.2   3.20  2.25  3.40   3.40     1       0                33   \n",
      "7   6.0  15.00  1.20  7.00  19.00     1       0                17   \n",
      "8   3.6   1.67  6.50  3.80   1.65     0       0                34   \n",
      "9   3.3   1.91  4.30  3.70   1.87     0       1                 9   \n",
      "10  5.5  10.00  1.25  6.00  13.00     1       0                 7   \n",
      "11  3.2   2.50  3.10  3.30   2.45     0       0                 1   \n",
      "12  4.2   6.50  1.50  4.40   7.00     1       0                 7   \n",
      "13  4.8   9.00  1.30  5.50  11.50     1       0                18   \n",
      "14  3.4   2.90  2.30  3.40   3.20     1       1                21   \n",
      "\n",
      "    AwayTeam_encoded  \n",
      "0                 28  \n",
      "1                 21  \n",
      "2                 30  \n",
      "3                 29  \n",
      "4                 27  \n",
      "5                 15  \n",
      "6                  1  \n",
      "7                 26  \n",
      "8                  7  \n",
      "9                 18  \n",
      "10                24  \n",
      "11                 9  \n",
      "12                20  \n",
      "13                10  \n",
      "14                23  \n",
      "\n",
      "[15 rows x 22 columns]\n"
     ]
    }
   ],
   "source": [
    "#work on testing df with Teams Label Encoded\n",
    "#get DF with teams Label Encoded\n",
    "LE_df = df\n",
    "\n",
    "# Initialize LabelEncoder\n",
    "label_encoder = LabelEncoder()\n",
    "\n",
    "# Transform the home & away columns using the same label encoder\n",
    "LE_df['HomeTeam_encoded'] = label_encoder.fit_transform(LE_df['HomeTeam'])\n",
    "LE_df['AwayTeam_encoded'] = label_encoder.transform(LE_df['AwayTeam'])\n",
    "\n",
    "RF_df = LE_df.drop(columns=['HomeTeam', 'AwayTeam', 'Unnamed: 0', 'FTR'])\n",
    "\n",
    "LE_df = LE_df.drop(columns=['HomeTeam', 'AwayTeam', 'Date', 'Unnamed: 0', 'FTR'])\n",
    "\n",
    "print(LE_df.head(15))"
   ]
  },
  {
   "cell_type": "code",
   "execution_count": 12,
   "id": "64f8108d",
   "metadata": {},
   "outputs": [
    {
     "ename": "NameError",
     "evalue": "name 'LE_df' is not defined",
     "output_type": "error",
     "traceback": [
      "\u001b[1;31m---------------------------------------------------------------------------\u001b[0m",
      "\u001b[1;31mNameError\u001b[0m                                 Traceback (most recent call last)",
      "Cell \u001b[1;32mIn[12], line 1\u001b[0m\n\u001b[1;32m----> 1\u001b[0m X \u001b[38;5;241m=\u001b[39m \u001b[43mLE_df\u001b[49m\u001b[38;5;241m.\u001b[39mdrop([\u001b[38;5;124m\"\u001b[39m\u001b[38;5;124mTARGET\u001b[39m\u001b[38;5;124m\"\u001b[39m], axis \u001b[38;5;241m=\u001b[39m \u001b[38;5;241m1\u001b[39m)\n\u001b[0;32m      2\u001b[0m y \u001b[38;5;241m=\u001b[39m LE_df[[\u001b[38;5;124m\"\u001b[39m\u001b[38;5;124mTARGET\u001b[39m\u001b[38;5;124m\"\u001b[39m]]\n\u001b[0;32m      3\u001b[0m X_train, X_test, y_train, y_test \u001b[38;5;241m=\u001b[39m train_test_split(X, y, test_size\u001b[38;5;241m=\u001b[39m\u001b[38;5;241m0.2\u001b[39m)\n",
      "\u001b[1;31mNameError\u001b[0m: name 'LE_df' is not defined"
     ]
    }
   ],
   "source": [
    "X = LE_df.drop([\"TARGET\"], axis = 1)\n",
    "y = LE_df[[\"TARGET\"]]\n",
    "X_train, X_test, y_train, y_test = train_test_split(X, y, test_size=0.2)\n",
    "clf = tree.DecisionTreeClassifier(max_depth = 2)\n",
    "clf.fit(X_train, y_train)\n",
    "\n",
    "predicted = clf.predict(X_test)\n",
    "report = metrics.classification_report(predicted, y_test)\n",
    "print(report)\n",
    "\n",
    "import matplotlib.pyplot as plt\n",
    "\n",
    "# find each features importance in clf, then return indexes of each features\n",
    "# importance from most important to least, then get column for each index\n",
    "importances = clf.feature_importances_\n",
    "sorted_index_lst = importances.argsort()[::-1]\n",
    "ordered_col_names = [X.columns[i] for i in sorted_index_lst]\n",
    "\n",
    "plt.title(\"Feature Importance\")\n",
    "plt.bar(range(len(importances)), importances[sorted_index_lst], \n",
    "        align='center', color='orange', edgecolor='black')\n",
    "plt.xticks(range(len(importances)), ordered_col_names)\n",
    "plt.xlabel(\"Features\")\n",
    "plt.ylabel(\"Importance\")\n",
    "plt.show()\n",
    "\n",
    "#averaging around 52-54% precision"
   ]
  },
  {
   "cell_type": "code",
   "execution_count": 7,
   "id": "8cb4a92f",
   "metadata": {},
   "outputs": [
    {
     "name": "stdout",
     "output_type": "stream",
     "text": [
      "Precision: 0.5799\n",
      "              precision    recall  f1-score   support\n",
      "\n",
      "           0       0.75      0.80      0.77       565\n",
      "           1       0.58      0.50      0.54       309\n",
      "\n",
      "    accuracy                           0.70       874\n",
      "   macro avg       0.66      0.65      0.66       874\n",
      "weighted avg       0.69      0.70      0.69       874\n",
      "\n"
     ]
    }
   ],
   "source": [
    "#Chat gpt's attempt at maximizing Precision\n",
    "#getting around 58% precision every time\n",
    "from sklearn.model_selection import train_test_split\n",
    "from sklearn.tree import DecisionTreeClassifier\n",
    "from sklearn.metrics import classification_report, precision_score\n",
    "\n",
    "# Assuming your target variable is named \"TARGET\"\n",
    "X = LE_df.drop([\"TARGET\"], axis=1)\n",
    "y = LE_df[\"TARGET\"]\n",
    "\n",
    "# Split the data into training and testing sets\n",
    "X_train, X_test, y_train, y_test = train_test_split(X, y, test_size=0.2, random_state=42)\n",
    "\n",
    "# Initialize and train the decision tree classifier\n",
    "clf = DecisionTreeClassifier(max_depth=2)\n",
    "clf.fit(X_train, y_train)\n",
    "\n",
    "# Make predictions on the test set\n",
    "predicted_proba = clf.predict_proba(X_test)[:, 1]  \n",
    "threshold = 0.5  # Adjust this threshold to maximize precision\n",
    "\n",
    "# Convert probabilities to binary predictions based on the threshold\n",
    "predicted = (predicted_proba > threshold).astype(int)\n",
    "\n",
    "# Evaluate the classifier's performance\n",
    "precision = precision_score(y_test, predicted)\n",
    "report = classification_report(y_test, predicted)\n",
    "\n",
    "print(f\"Precision: {precision:.4f}\")\n",
    "print(report)"
   ]
  },
  {
   "cell_type": "code",
   "execution_count": 8,
   "id": "fdfbcdd2",
   "metadata": {},
   "outputs": [],
   "source": [
    "from sklearn.ensemble import RandomForestClassifier\n",
    "#take RF dataframe and change the dates to datetime format, in UK format *dayfirst = True\n",
    "RF_df['Date'] = pd.to_datetime(RF_df['Date'], dayfirst = True, errors='coerce')\n"
   ]
  },
  {
   "cell_type": "code",
   "execution_count": 9,
   "id": "856e4feb",
   "metadata": {},
   "outputs": [],
   "source": [
    "#We will also add a daycode that represents what day of the week the game was played, adding additional info to the dataset\n",
    "RF_df[\"Day_Code\"]= RF_df[\"Date\"].dt.dayofweek\n"
   ]
  },
  {
   "cell_type": "code",
   "execution_count": 10,
   "id": "af8f28cc",
   "metadata": {},
   "outputs": [],
   "source": [
    "rf = RandomForestClassifier(n_estimators=75, min_samples_split= 10, random_state=1)"
   ]
  },
  {
   "cell_type": "code",
   "execution_count": 11,
   "id": "18872609",
   "metadata": {},
   "outputs": [],
   "source": [
    "train = RF_df[RF_df[\"Date\"] < '24-05-21']\n",
    "train = train.dropna()"
   ]
  },
  {
   "cell_type": "code",
   "execution_count": 12,
   "id": "cfeac60d",
   "metadata": {},
   "outputs": [],
   "source": [
    "test = RF_df[RF_df[\"Date\"] > '24-05-21']\n",
    "test = test.dropna()"
   ]
  },
  {
   "cell_type": "code",
   "execution_count": 13,
   "id": "6a5d8056",
   "metadata": {},
   "outputs": [],
   "source": [
    "predictors = ['B365H', 'B365D', 'B365A', 'BWH', 'BWD', 'BWA', 'IWH', 'IWD',\n",
    "       'IWA', 'PSH', 'PSD', 'PSA', 'WHH', 'WHD', 'WHA', 'VCH', 'VCD', 'VCA',\n",
    "       'PRED', 'HomeTeam_encoded', 'AwayTeam_encoded', \"Day_Code\"]\n"
   ]
  },
  {
   "cell_type": "code",
   "execution_count": 14,
   "id": "3586396b",
   "metadata": {},
   "outputs": [
    {
     "data": {
      "text/html": [
       "<style>#sk-container-id-1 {color: black;}#sk-container-id-1 pre{padding: 0;}#sk-container-id-1 div.sk-toggleable {background-color: white;}#sk-container-id-1 label.sk-toggleable__label {cursor: pointer;display: block;width: 100%;margin-bottom: 0;padding: 0.3em;box-sizing: border-box;text-align: center;}#sk-container-id-1 label.sk-toggleable__label-arrow:before {content: \"▸\";float: left;margin-right: 0.25em;color: #696969;}#sk-container-id-1 label.sk-toggleable__label-arrow:hover:before {color: black;}#sk-container-id-1 div.sk-estimator:hover label.sk-toggleable__label-arrow:before {color: black;}#sk-container-id-1 div.sk-toggleable__content {max-height: 0;max-width: 0;overflow: hidden;text-align: left;background-color: #f0f8ff;}#sk-container-id-1 div.sk-toggleable__content pre {margin: 0.2em;color: black;border-radius: 0.25em;background-color: #f0f8ff;}#sk-container-id-1 input.sk-toggleable__control:checked~div.sk-toggleable__content {max-height: 200px;max-width: 100%;overflow: auto;}#sk-container-id-1 input.sk-toggleable__control:checked~label.sk-toggleable__label-arrow:before {content: \"▾\";}#sk-container-id-1 div.sk-estimator input.sk-toggleable__control:checked~label.sk-toggleable__label {background-color: #d4ebff;}#sk-container-id-1 div.sk-label input.sk-toggleable__control:checked~label.sk-toggleable__label {background-color: #d4ebff;}#sk-container-id-1 input.sk-hidden--visually {border: 0;clip: rect(1px 1px 1px 1px);clip: rect(1px, 1px, 1px, 1px);height: 1px;margin: -1px;overflow: hidden;padding: 0;position: absolute;width: 1px;}#sk-container-id-1 div.sk-estimator {font-family: monospace;background-color: #f0f8ff;border: 1px dotted black;border-radius: 0.25em;box-sizing: border-box;margin-bottom: 0.5em;}#sk-container-id-1 div.sk-estimator:hover {background-color: #d4ebff;}#sk-container-id-1 div.sk-parallel-item::after {content: \"\";width: 100%;border-bottom: 1px solid gray;flex-grow: 1;}#sk-container-id-1 div.sk-label:hover label.sk-toggleable__label {background-color: #d4ebff;}#sk-container-id-1 div.sk-serial::before {content: \"\";position: absolute;border-left: 1px solid gray;box-sizing: border-box;top: 0;bottom: 0;left: 50%;z-index: 0;}#sk-container-id-1 div.sk-serial {display: flex;flex-direction: column;align-items: center;background-color: white;padding-right: 0.2em;padding-left: 0.2em;position: relative;}#sk-container-id-1 div.sk-item {position: relative;z-index: 1;}#sk-container-id-1 div.sk-parallel {display: flex;align-items: stretch;justify-content: center;background-color: white;position: relative;}#sk-container-id-1 div.sk-item::before, #sk-container-id-1 div.sk-parallel-item::before {content: \"\";position: absolute;border-left: 1px solid gray;box-sizing: border-box;top: 0;bottom: 0;left: 50%;z-index: -1;}#sk-container-id-1 div.sk-parallel-item {display: flex;flex-direction: column;z-index: 1;position: relative;background-color: white;}#sk-container-id-1 div.sk-parallel-item:first-child::after {align-self: flex-end;width: 50%;}#sk-container-id-1 div.sk-parallel-item:last-child::after {align-self: flex-start;width: 50%;}#sk-container-id-1 div.sk-parallel-item:only-child::after {width: 0;}#sk-container-id-1 div.sk-dashed-wrapped {border: 1px dashed gray;margin: 0 0.4em 0.5em 0.4em;box-sizing: border-box;padding-bottom: 0.4em;background-color: white;}#sk-container-id-1 div.sk-label label {font-family: monospace;font-weight: bold;display: inline-block;line-height: 1.2em;}#sk-container-id-1 div.sk-label-container {text-align: center;}#sk-container-id-1 div.sk-container {/* jupyter's `normalize.less` sets `[hidden] { display: none; }` but bootstrap.min.css set `[hidden] { display: none !important; }` so we also need the `!important` here to be able to override the default hidden behavior on the sphinx rendered scikit-learn.org. See: https://github.com/scikit-learn/scikit-learn/issues/21755 */display: inline-block !important;position: relative;}#sk-container-id-1 div.sk-text-repr-fallback {display: none;}</style><div id=\"sk-container-id-1\" class=\"sk-top-container\"><div class=\"sk-text-repr-fallback\"><pre>RandomForestClassifier(min_samples_split=10, n_estimators=75, random_state=1)</pre><b>In a Jupyter environment, please rerun this cell to show the HTML representation or trust the notebook. <br />On GitHub, the HTML representation is unable to render, please try loading this page with nbviewer.org.</b></div><div class=\"sk-container\" hidden><div class=\"sk-item\"><div class=\"sk-estimator sk-toggleable\"><input class=\"sk-toggleable__control sk-hidden--visually\" id=\"sk-estimator-id-1\" type=\"checkbox\" checked><label for=\"sk-estimator-id-1\" class=\"sk-toggleable__label sk-toggleable__label-arrow\">RandomForestClassifier</label><div class=\"sk-toggleable__content\"><pre>RandomForestClassifier(min_samples_split=10, n_estimators=75, random_state=1)</pre></div></div></div></div></div>"
      ],
      "text/plain": [
       "RandomForestClassifier(min_samples_split=10, n_estimators=75, random_state=1)"
      ]
     },
     "execution_count": 14,
     "metadata": {},
     "output_type": "execute_result"
    }
   ],
   "source": [
    "rf.fit(train[predictors], train[\"TARGET\"])"
   ]
  },
  {
   "cell_type": "code",
   "execution_count": 15,
   "id": "077049c2",
   "metadata": {},
   "outputs": [],
   "source": [
    "preds = rf.predict(test[predictors])"
   ]
  },
  {
   "cell_type": "code",
   "execution_count": 16,
   "id": "42a407ed",
   "metadata": {},
   "outputs": [],
   "source": [
    "from sklearn.metrics import accuracy_score"
   ]
  },
  {
   "cell_type": "code",
   "execution_count": 17,
   "id": "ae2484f9",
   "metadata": {},
   "outputs": [],
   "source": [
    "acc = accuracy_score(test[\"TARGET\"], preds)"
   ]
  },
  {
   "cell_type": "code",
   "execution_count": 18,
   "id": "ceea2836",
   "metadata": {},
   "outputs": [
    {
     "data": {
      "text/plain": [
       "0.6634920634920635"
      ]
     },
     "execution_count": 18,
     "metadata": {},
     "output_type": "execute_result"
    }
   ],
   "source": [
    "acc"
   ]
  },
  {
   "cell_type": "code",
   "execution_count": 19,
   "id": "7bd9e274",
   "metadata": {},
   "outputs": [],
   "source": [
    "from sklearn.metrics import precision_score"
   ]
  },
  {
   "cell_type": "code",
   "execution_count": 20,
   "id": "c64d6166",
   "metadata": {},
   "outputs": [
    {
     "data": {
      "text/plain": [
       "0.5061224489795918"
      ]
     },
     "execution_count": 20,
     "metadata": {},
     "output_type": "execute_result"
    }
   ],
   "source": [
    "precision_score(test[\"TARGET\"], preds)"
   ]
  },
  {
   "cell_type": "code",
   "execution_count": 21,
   "id": "f7440ba3",
   "metadata": {},
   "outputs": [
    {
     "data": {
      "text/html": [
       "<div>\n",
       "<style scoped>\n",
       "    .dataframe tbody tr th:only-of-type {\n",
       "        vertical-align: middle;\n",
       "    }\n",
       "\n",
       "    .dataframe tbody tr th {\n",
       "        vertical-align: top;\n",
       "    }\n",
       "\n",
       "    .dataframe thead th {\n",
       "        text-align: right;\n",
       "    }\n",
       "</style>\n",
       "<table border=\"1\" class=\"dataframe\">\n",
       "  <thead>\n",
       "    <tr style=\"text-align: right;\">\n",
       "      <th>prediction</th>\n",
       "      <th>0</th>\n",
       "      <th>1</th>\n",
       "    </tr>\n",
       "    <tr>\n",
       "      <th>actual</th>\n",
       "      <th></th>\n",
       "      <th></th>\n",
       "    </tr>\n",
       "  </thead>\n",
       "  <tbody>\n",
       "    <tr>\n",
       "      <th>0</th>\n",
       "      <td>503</td>\n",
       "      <td>121</td>\n",
       "    </tr>\n",
       "    <tr>\n",
       "      <th>1</th>\n",
       "      <td>197</td>\n",
       "      <td>124</td>\n",
       "    </tr>\n",
       "  </tbody>\n",
       "</table>\n",
       "</div>"
      ],
      "text/plain": [
       "prediction    0    1\n",
       "actual              \n",
       "0           503  121\n",
       "1           197  124"
      ]
     },
     "execution_count": 21,
     "metadata": {},
     "output_type": "execute_result"
    }
   ],
   "source": [
    "combined = pd.DataFrame(dict(actual=test[\"TARGET\"], prediction=preds))\n",
    "pd.crosstab(index=combined[\"actual\"], columns=combined[\"prediction\"])"
   ]
  },
  {
   "cell_type": "code",
   "execution_count": 22,
   "id": "0fc9a97d",
   "metadata": {},
   "outputs": [
    {
     "data": {
      "text/html": [
       "<style>#sk-container-id-2 {color: black;}#sk-container-id-2 pre{padding: 0;}#sk-container-id-2 div.sk-toggleable {background-color: white;}#sk-container-id-2 label.sk-toggleable__label {cursor: pointer;display: block;width: 100%;margin-bottom: 0;padding: 0.3em;box-sizing: border-box;text-align: center;}#sk-container-id-2 label.sk-toggleable__label-arrow:before {content: \"▸\";float: left;margin-right: 0.25em;color: #696969;}#sk-container-id-2 label.sk-toggleable__label-arrow:hover:before {color: black;}#sk-container-id-2 div.sk-estimator:hover label.sk-toggleable__label-arrow:before {color: black;}#sk-container-id-2 div.sk-toggleable__content {max-height: 0;max-width: 0;overflow: hidden;text-align: left;background-color: #f0f8ff;}#sk-container-id-2 div.sk-toggleable__content pre {margin: 0.2em;color: black;border-radius: 0.25em;background-color: #f0f8ff;}#sk-container-id-2 input.sk-toggleable__control:checked~div.sk-toggleable__content {max-height: 200px;max-width: 100%;overflow: auto;}#sk-container-id-2 input.sk-toggleable__control:checked~label.sk-toggleable__label-arrow:before {content: \"▾\";}#sk-container-id-2 div.sk-estimator input.sk-toggleable__control:checked~label.sk-toggleable__label {background-color: #d4ebff;}#sk-container-id-2 div.sk-label input.sk-toggleable__control:checked~label.sk-toggleable__label {background-color: #d4ebff;}#sk-container-id-2 input.sk-hidden--visually {border: 0;clip: rect(1px 1px 1px 1px);clip: rect(1px, 1px, 1px, 1px);height: 1px;margin: -1px;overflow: hidden;padding: 0;position: absolute;width: 1px;}#sk-container-id-2 div.sk-estimator {font-family: monospace;background-color: #f0f8ff;border: 1px dotted black;border-radius: 0.25em;box-sizing: border-box;margin-bottom: 0.5em;}#sk-container-id-2 div.sk-estimator:hover {background-color: #d4ebff;}#sk-container-id-2 div.sk-parallel-item::after {content: \"\";width: 100%;border-bottom: 1px solid gray;flex-grow: 1;}#sk-container-id-2 div.sk-label:hover label.sk-toggleable__label {background-color: #d4ebff;}#sk-container-id-2 div.sk-serial::before {content: \"\";position: absolute;border-left: 1px solid gray;box-sizing: border-box;top: 0;bottom: 0;left: 50%;z-index: 0;}#sk-container-id-2 div.sk-serial {display: flex;flex-direction: column;align-items: center;background-color: white;padding-right: 0.2em;padding-left: 0.2em;position: relative;}#sk-container-id-2 div.sk-item {position: relative;z-index: 1;}#sk-container-id-2 div.sk-parallel {display: flex;align-items: stretch;justify-content: center;background-color: white;position: relative;}#sk-container-id-2 div.sk-item::before, #sk-container-id-2 div.sk-parallel-item::before {content: \"\";position: absolute;border-left: 1px solid gray;box-sizing: border-box;top: 0;bottom: 0;left: 50%;z-index: -1;}#sk-container-id-2 div.sk-parallel-item {display: flex;flex-direction: column;z-index: 1;position: relative;background-color: white;}#sk-container-id-2 div.sk-parallel-item:first-child::after {align-self: flex-end;width: 50%;}#sk-container-id-2 div.sk-parallel-item:last-child::after {align-self: flex-start;width: 50%;}#sk-container-id-2 div.sk-parallel-item:only-child::after {width: 0;}#sk-container-id-2 div.sk-dashed-wrapped {border: 1px dashed gray;margin: 0 0.4em 0.5em 0.4em;box-sizing: border-box;padding-bottom: 0.4em;background-color: white;}#sk-container-id-2 div.sk-label label {font-family: monospace;font-weight: bold;display: inline-block;line-height: 1.2em;}#sk-container-id-2 div.sk-label-container {text-align: center;}#sk-container-id-2 div.sk-container {/* jupyter's `normalize.less` sets `[hidden] { display: none; }` but bootstrap.min.css set `[hidden] { display: none !important; }` so we also need the `!important` here to be able to override the default hidden behavior on the sphinx rendered scikit-learn.org. See: https://github.com/scikit-learn/scikit-learn/issues/21755 */display: inline-block !important;position: relative;}#sk-container-id-2 div.sk-text-repr-fallback {display: none;}</style><div id=\"sk-container-id-2\" class=\"sk-top-container\"><div class=\"sk-text-repr-fallback\"><pre>Pipeline(steps=[(&#x27;encoder&#x27;, TargetEncoder()),\n",
       "                (&#x27;clf&#x27;,\n",
       "                 XGBClassifier(base_score=None, booster=None, callbacks=None,\n",
       "                               colsample_bylevel=None, colsample_bynode=None,\n",
       "                               colsample_bytree=None, device=None,\n",
       "                               early_stopping_rounds=None,\n",
       "                               enable_categorical=False, eval_metric=None,\n",
       "                               feature_types=None, gamma=None, grow_policy=None,\n",
       "                               importance_type=None,\n",
       "                               interaction_constraints=None, learning_rate=None,\n",
       "                               max_bin=None, max_cat_threshold=None,\n",
       "                               max_cat_to_onehot=None, max_delta_step=None,\n",
       "                               max_depth=None, max_leaves=None,\n",
       "                               min_child_weight=None, missing=nan,\n",
       "                               monotone_constraints=None, multi_strategy=None,\n",
       "                               n_estimators=None, n_jobs=None,\n",
       "                               num_parallel_tree=None, random_state=8, ...))])</pre><b>In a Jupyter environment, please rerun this cell to show the HTML representation or trust the notebook. <br />On GitHub, the HTML representation is unable to render, please try loading this page with nbviewer.org.</b></div><div class=\"sk-container\" hidden><div class=\"sk-item sk-dashed-wrapped\"><div class=\"sk-label-container\"><div class=\"sk-label sk-toggleable\"><input class=\"sk-toggleable__control sk-hidden--visually\" id=\"sk-estimator-id-2\" type=\"checkbox\" ><label for=\"sk-estimator-id-2\" class=\"sk-toggleable__label sk-toggleable__label-arrow\">Pipeline</label><div class=\"sk-toggleable__content\"><pre>Pipeline(steps=[(&#x27;encoder&#x27;, TargetEncoder()),\n",
       "                (&#x27;clf&#x27;,\n",
       "                 XGBClassifier(base_score=None, booster=None, callbacks=None,\n",
       "                               colsample_bylevel=None, colsample_bynode=None,\n",
       "                               colsample_bytree=None, device=None,\n",
       "                               early_stopping_rounds=None,\n",
       "                               enable_categorical=False, eval_metric=None,\n",
       "                               feature_types=None, gamma=None, grow_policy=None,\n",
       "                               importance_type=None,\n",
       "                               interaction_constraints=None, learning_rate=None,\n",
       "                               max_bin=None, max_cat_threshold=None,\n",
       "                               max_cat_to_onehot=None, max_delta_step=None,\n",
       "                               max_depth=None, max_leaves=None,\n",
       "                               min_child_weight=None, missing=nan,\n",
       "                               monotone_constraints=None, multi_strategy=None,\n",
       "                               n_estimators=None, n_jobs=None,\n",
       "                               num_parallel_tree=None, random_state=8, ...))])</pre></div></div></div><div class=\"sk-serial\"><div class=\"sk-item\"><div class=\"sk-estimator sk-toggleable\"><input class=\"sk-toggleable__control sk-hidden--visually\" id=\"sk-estimator-id-3\" type=\"checkbox\" ><label for=\"sk-estimator-id-3\" class=\"sk-toggleable__label sk-toggleable__label-arrow\">TargetEncoder</label><div class=\"sk-toggleable__content\"><pre>TargetEncoder()</pre></div></div></div><div class=\"sk-item\"><div class=\"sk-estimator sk-toggleable\"><input class=\"sk-toggleable__control sk-hidden--visually\" id=\"sk-estimator-id-4\" type=\"checkbox\" ><label for=\"sk-estimator-id-4\" class=\"sk-toggleable__label sk-toggleable__label-arrow\">XGBClassifier</label><div class=\"sk-toggleable__content\"><pre>XGBClassifier(base_score=None, booster=None, callbacks=None,\n",
       "              colsample_bylevel=None, colsample_bynode=None,\n",
       "              colsample_bytree=None, device=None, early_stopping_rounds=None,\n",
       "              enable_categorical=False, eval_metric=None, feature_types=None,\n",
       "              gamma=None, grow_policy=None, importance_type=None,\n",
       "              interaction_constraints=None, learning_rate=None, max_bin=None,\n",
       "              max_cat_threshold=None, max_cat_to_onehot=None,\n",
       "              max_delta_step=None, max_depth=None, max_leaves=None,\n",
       "              min_child_weight=None, missing=nan, monotone_constraints=None,\n",
       "              multi_strategy=None, n_estimators=None, n_jobs=None,\n",
       "              num_parallel_tree=None, random_state=8, ...)</pre></div></div></div></div></div></div></div>"
      ],
      "text/plain": [
       "Pipeline(steps=[('encoder', TargetEncoder()),\n",
       "                ('clf',\n",
       "                 XGBClassifier(base_score=None, booster=None, callbacks=None,\n",
       "                               colsample_bylevel=None, colsample_bynode=None,\n",
       "                               colsample_bytree=None, device=None,\n",
       "                               early_stopping_rounds=None,\n",
       "                               enable_categorical=False, eval_metric=None,\n",
       "                               feature_types=None, gamma=None, grow_policy=None,\n",
       "                               importance_type=None,\n",
       "                               interaction_constraints=None, learning_rate=None,\n",
       "                               max_bin=None, max_cat_threshold=None,\n",
       "                               max_cat_to_onehot=None, max_delta_step=None,\n",
       "                               max_depth=None, max_leaves=None,\n",
       "                               min_child_weight=None, missing=nan,\n",
       "                               monotone_constraints=None, multi_strategy=None,\n",
       "                               n_estimators=None, n_jobs=None,\n",
       "                               num_parallel_tree=None, random_state=8, ...))])"
      ]
     },
     "execution_count": 22,
     "metadata": {},
     "output_type": "execute_result"
    }
   ],
   "source": [
    "from sklearn.model_selection import train_test_split\n",
    "from sklearn.pipeline import Pipeline\n",
    "from category_encoders.target_encoder import TargetEncoder\n",
    "from xgboost import XGBClassifier\n",
    "X = LE_df.drop([\"TARGET\"], axis=1)\n",
    "y = LE_df[\"TARGET\"]\n",
    "X_train, X_test, y_train, y_test = train_test_split(X, y, test_size=0.2, random_state=42)\n",
    "\n",
    "estimators = [ ('encoder', TargetEncoder()), ('clf', XGBClassifier(random_state=8))]\n",
    "pipe = Pipeline(steps=estimators)\n",
    "pipe"
   ]
  },
  {
   "cell_type": "code",
   "execution_count": null,
   "id": "250467a3",
   "metadata": {},
   "outputs": [],
   "source": []
  }
 ],
 "metadata": {
  "kernelspec": {
   "display_name": "Python 3 (ipykernel)",
   "language": "python",
   "name": "python3"
  },
  "language_info": {
   "codemirror_mode": {
    "name": "ipython",
    "version": 3
   },
   "file_extension": ".py",
   "mimetype": "text/x-python",
   "name": "python",
   "nbconvert_exporter": "python",
   "pygments_lexer": "ipython3",
   "version": "3.11.7"
  }
 },
 "nbformat": 4,
 "nbformat_minor": 5
}
